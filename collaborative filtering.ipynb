{
  "cells": [
    {
      "metadata": {
        "_uuid": "8f2839f25d086af736a60e9eeb907d3b93b6e0e5",
        "_cell_guid": "b1076dfc-b9ad-4769-8c92-a6c4dae69d19",
        "trusted": true,
        "collapsed": true
      },
      "cell_type": "code",
      "source": "import numpy as np # linear algebra\nimport pandas as pd # data processing\nimport math",
      "execution_count": 136,
      "outputs": []
    },
    {
      "metadata": {
        "trusted": true,
        "_uuid": "152469211954edf4ea5d95fec60b169abd7a53c3",
        "collapsed": true
      },
      "cell_type": "code",
      "source": "#data is the movie rating by users\n#Rows define movies\n#Columns define users\n#row,column pair defines ratings given by user\n#PROBLEM IS TO PREDICT RATINGS FOR MOVIES WHICH A USER HAS NOT GIVEN ANY RATINGS\ndata = pd.read_csv('../input/recommendation.csv')",
      "execution_count": 137,
      "outputs": []
    },
    {
      "metadata": {
        "trusted": true,
        "_uuid": "7fd51a5138d46317af3ebd951ceb78597b6894fd"
      },
      "cell_type": "code",
      "source": "data.head()",
      "execution_count": 138,
      "outputs": [
        {
          "output_type": "execute_result",
          "execution_count": 138,
          "data": {
            "text/plain": "   Alice  Bob  Carol  Dave\n0    5.0  5.0    0.0   0.0\n1    5.0  NaN    NaN   0.0\n2    NaN  4.0    0.0   NaN\n3    0.0  0.0    5.0   4.0\n4    0.0  0.0    5.0   NaN",
            "text/html": "<div>\n<style scoped>\n    .dataframe tbody tr th:only-of-type {\n        vertical-align: middle;\n    }\n\n    .dataframe tbody tr th {\n        vertical-align: top;\n    }\n\n    .dataframe thead th {\n        text-align: right;\n    }\n</style>\n<table border=\"1\" class=\"dataframe\">\n  <thead>\n    <tr style=\"text-align: right;\">\n      <th></th>\n      <th>Alice</th>\n      <th>Bob</th>\n      <th>Carol</th>\n      <th>Dave</th>\n    </tr>\n  </thead>\n  <tbody>\n    <tr>\n      <th>0</th>\n      <td>5.0</td>\n      <td>5.0</td>\n      <td>0.0</td>\n      <td>0.0</td>\n    </tr>\n    <tr>\n      <th>1</th>\n      <td>5.0</td>\n      <td>NaN</td>\n      <td>NaN</td>\n      <td>0.0</td>\n    </tr>\n    <tr>\n      <th>2</th>\n      <td>NaN</td>\n      <td>4.0</td>\n      <td>0.0</td>\n      <td>NaN</td>\n    </tr>\n    <tr>\n      <th>3</th>\n      <td>0.0</td>\n      <td>0.0</td>\n      <td>5.0</td>\n      <td>4.0</td>\n    </tr>\n    <tr>\n      <th>4</th>\n      <td>0.0</td>\n      <td>0.0</td>\n      <td>5.0</td>\n      <td>NaN</td>\n    </tr>\n  </tbody>\n</table>\n</div>"
          },
          "metadata": {}
        }
      ]
    },
    {
      "metadata": {
        "trusted": true,
        "collapsed": true,
        "_uuid": "f5302a5ffbdbbfe29ba2c20bdb2e1ad27a334985"
      },
      "cell_type": "code",
      "source": "no_movies = len(data['Alice'])",
      "execution_count": 139,
      "outputs": []
    },
    {
      "metadata": {
        "trusted": true,
        "_uuid": "57aa4dca503c4d04008c29aeddfe5a49782fd6ef"
      },
      "cell_type": "code",
      "source": "no_users = len(data.columns)\nno_users",
      "execution_count": 140,
      "outputs": [
        {
          "output_type": "execute_result",
          "execution_count": 140,
          "data": {
            "text/plain": "4"
          },
          "metadata": {}
        }
      ]
    },
    {
      "metadata": {
        "trusted": true,
        "_uuid": "65e19736b23825d597b82280efb259cbabb37fb5"
      },
      "cell_type": "code",
      "source": "#X for every movie has 3 Parameters: 1, Romance, Action\n#Initializing X with small random values\nX = np.random.uniform(low=0.01, high=0.25, size=(3,no_movies))\nX[0,:] = 1\nX",
      "execution_count": 141,
      "outputs": [
        {
          "output_type": "execute_result",
          "execution_count": 141,
          "data": {
            "text/plain": "array([[1.        , 1.        , 1.        , 1.        , 1.        ],\n       [0.14934099, 0.1968444 , 0.01773699, 0.24895188, 0.13012068],\n       [0.16493554, 0.12649649, 0.09518619, 0.09822578, 0.12157328]])"
          },
          "metadata": {}
        }
      ]
    },
    {
      "metadata": {
        "trusted": true,
        "_uuid": "59d9eb665bb2dafe4f87a967fafe9911478c7259",
        "collapsed": true
      },
      "cell_type": "code",
      "source": "#Every User has similarly 3 coefficients\n#Initializing theta with small random values\ntheta = np.random.uniform(low=0.01, high=0.25, size=(3,no_users))",
      "execution_count": 142,
      "outputs": []
    },
    {
      "metadata": {
        "trusted": true,
        "_uuid": "7af5a3fe62252da04105c3fe6dca43bec49fe236"
      },
      "cell_type": "code",
      "source": "#sumx to temporarily store values\nsumx = np.zeros((3,1))\nsumx = sumx+sumx\nsumx",
      "execution_count": 143,
      "outputs": [
        {
          "output_type": "execute_result",
          "execution_count": 143,
          "data": {
            "text/plain": "array([[0.],\n       [0.],\n       [0.]])"
          },
          "metadata": {}
        }
      ]
    },
    {
      "metadata": {
        "trusted": true,
        "_uuid": "76c62fb1529834a197da7c4fd38da76dce7fe7d8",
        "collapsed": true
      },
      "cell_type": "code",
      "source": "#Gradient Descent without regularization\nfor repeat in range(500):\n    for j in range(no_users):\n        for i in range(no_movies):\n            sumx = np.zeros((3,1))\n            for k in range(no_users):\n                if(math.isnan(data.iloc[i,k])==False):\n                    sumx[:,0] = sumx[:,0] + (np.dot(theta[:,k],X[:,i])-data.iloc[i,k])*theta[:,k]\n                \n            X[:,i:i+1]=X[:,i:i+1]-0.05*(sumx)\n            sumx = np.zeros((3,1))\n            for l in range(no_movies):\n                if(math.isnan(data.iloc[l,j])==False):\n                    sumx[:,0] = sumx[:,0] + (np.dot(theta[:,j],X[:,l])-data.iloc[l,j])*X[:,l]\n        theta[:,j:j+1]=theta[:,j:j+1]-0.05*(sumx)\n        sumx = np.zeros((3,1))\n",
      "execution_count": 144,
      "outputs": []
    },
    {
      "metadata": {
        "_cell_guid": "79c7e3d0-c299-4dcb-8224-4455121ee9b0",
        "_uuid": "d629ff2d2480ee46fbb7e2d37f6b5fab8052498a",
        "trusted": true
      },
      "cell_type": "code",
      "source": "#After Gradient Descent X Value\nX",
      "execution_count": 145,
      "outputs": [
        {
          "output_type": "execute_result",
          "execution_count": 145,
          "data": {
            "text/plain": "array([[ 2.31521615,  2.59099115,  1.89708091,  1.27890598,  1.48162629],\n       [ 0.79038359,  0.2307523 ,  0.47129254,  1.1190585 ,  0.39211142],\n       [ 1.4904065 ,  1.29509407,  1.18893388, -2.41456354, -2.4298921 ]])"
          },
          "metadata": {}
        }
      ]
    },
    {
      "metadata": {
        "trusted": true,
        "_uuid": "e9aef05f7747efffab6c98841b2b62d65e0e5281"
      },
      "cell_type": "code",
      "source": "#After Gradient Descent theta Value\ntheta",
      "execution_count": 146,
      "outputs": [
        {
          "output_type": "execute_result",
          "execution_count": 146,
          "data": {
            "text/plain": "array([[ 1.42970718,  1.42965271,  0.86416669,  0.49522968],\n       [ 0.37894869,  0.37908427,  0.27233776,  0.62892745],\n       [ 0.93290314,  0.93291472, -1.48683193, -1.10282507]])"
          },
          "metadata": {}
        }
      ]
    },
    {
      "metadata": {
        "trusted": true,
        "_uuid": "1c76e729cc496619665e0864fcae26c22fe29d0b"
      },
      "cell_type": "code",
      "source": "#Predicted User Ratings\n#Note: -0 Means very small negative value\nfor j in range(no_movies):\n    for i in range(no_users):\n        predict = np.dot(theta[:,i],X[:,j])\n        print(\" %6.1f \" % predict,end='  ')\n    print()",
      "execution_count": 148,
      "outputs": [
        {
          "output_type": "stream",
          "text": "    5.0       5.0      -0.0       0.0   \n    5.0       5.0       0.4      -0.0   \n    4.0       4.0       0.0      -0.1   \n   -0.0       0.0       5.0       4.0   \n    0.0      -0.0       5.0       3.7   \n",
          "name": "stdout"
        }
      ]
    }
  ],
  "metadata": {
    "kernelspec": {
      "display_name": "Python 3",
      "language": "python",
      "name": "python3"
    },
    "language_info": {
      "name": "python",
      "version": "3.6.6",
      "mimetype": "text/x-python",
      "codemirror_mode": {
        "name": "ipython",
        "version": 3
      },
      "pygments_lexer": "ipython3",
      "nbconvert_exporter": "python",
      "file_extension": ".py"
    }
  },
  "nbformat": 4,
  "nbformat_minor": 1
}